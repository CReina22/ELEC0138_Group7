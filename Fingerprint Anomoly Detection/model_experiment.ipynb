{
 "cells": [
  {
   "cell_type": "code",
   "execution_count": null,
   "id": "6707bd6e",
   "metadata": {},
   "outputs": [],
   "source": [
    "import sqlite3\n",
    "import pandas as pd\n",
    "import numpy as np \n",
    "from sklearn import svm\n",
    "from sklearn.metrics.pairwise import cosine_similarity"
   ]
  },
  {
   "cell_type": "markdown",
   "id": "ad57d3c6",
   "metadata": {},
   "source": [
    "Import a selection of data "
   ]
  },
  {
   "cell_type": "code",
   "execution_count": null,
   "id": "e01a48d3",
   "metadata": {},
   "outputs": [
    {
     "name": "stdout",
     "output_type": "stream",
     "text": [
      "[('Mozilla/5.0 (Windows NT 10.0; Win64; x64) AppleWebKit/537.36 (KHTML, like Gecko) Chrome/135.0.0.0 Safari/537.36', 'Win32', '1536x961', 'Europe/London', 'en-US', 24, 1.25, 1, None, '[{\"name\": \"PDF Viewer\", \"description\": \"Portable Document Format\"}, {\"name\": \"Chrome PDF Viewer\", \"description\": \"Portable Document Format\"}, {\"name\": \"Chromium PDF Viewer\", \"description\": \"Portable Document Format\"}, {\"name\": \"Microsoft Edge PDF Viewer\", \"description\": \"Portable Document Format\"}, {\"name\": \"WebKit built-in PDF\", \"description\": \"Portable Document Format\"}]', '16', '4g', 'data:image/png;base64,iVBORw0KGgoAAAANSUhEUgAAAMgAAAAyCAYAAAAZUZThAAAAAXNSR0IArs4c6QAAA5ZJREFUeF7tmT'), ('Mozilla/5.0 (Windows NT 10.0; Win64; x64) AppleWebKit/537.36 (KHTML, like Gecko) Chrome/135.0.0.0 Safari/537.36', 'Win32', '1536x961', 'Europe/London', 'en-US', 24, 1.25, 1, None, '[{\"name\": \"PDF Viewer\", \"description\": \"Portable Document Format\"}, {\"name\": \"Chrome PDF Viewer\", \"description\": \"Portable Document Format\"}, {\"name\": \"Chromium PDF Viewer\", \"description\": \"Portable Document Format\"}, {\"name\": \"Microsoft Edge PDF Viewer\", \"description\": \"Portable Document Format\"}, {\"name\": \"WebKit built-in PDF\", \"description\": \"Portable Document Format\"}]', '16', '4g', 'data:image/png;base64,iVBORw0KGgoAAAANSUhEUgAAAMgAAAAyCAYAAAAZUZThAAAAAXNSR0IArs4c6QAAA5ZJREFUeF7tmT'), ('Mozilla/5.0 (Windows NT 10.0; Win64; x64) AppleWebKit/537.36 (KHTML, like Gecko) Chrome/135.0.0.0 Safari/537.36', 'Win32', '1536x961', 'Europe/London', 'en-US', 24, 1.25, 1, None, '[{\"name\": \"PDF Viewer\", \"description\": \"Portable Document Format\"}, {\"name\": \"Chrome PDF Viewer\", \"description\": \"Portable Document Format\"}, {\"name\": \"Chromium PDF Viewer\", \"description\": \"Portable Document Format\"}, {\"name\": \"Microsoft Edge PDF Viewer\", \"description\": \"Portable Document Format\"}, {\"name\": \"WebKit built-in PDF\", \"description\": \"Portable Document Format\"}]', '16', '4g', 'data:image/png;base64,iVBORw0KGgoAAAANSUhEUgAAAMgAAAAyCAYAAAAZUZThAAAAAXNSR0IArs4c6QAAA5ZJREFUeF7tmT'), ('Mozilla/5.0 (iPhone; CPU iPhone OS 18_3_2 like Mac OS X) AppleWebKit/605.1.15 (KHTML, like Gecko) CriOS/135.0.7049.53 Mobile/15E148 Safari/604.1', 'iPhone', '390x844', 'Europe/London', 'en-GB', 24, 3.0, 1, None, '[{\"name\": \"PDF Viewer\", \"description\": \"Portable Document Format\"}, {\"name\": \"Chrome PDF Viewer\", \"description\": \"Portable Document Format\"}, {\"name\": \"Chromium PDF Viewer\", \"description\": \"Portable Document Format\"}, {\"name\": \"Microsoft Edge PDF Viewer\", \"description\": \"Portable Document Format\"}, {\"name\": \"WebKit built-in PDF\", \"description\": \"Portable Document Format\"}]', '4', 'unknown', 'data:image/png;base64,iVBORw0KGgoAAAANSUhEUgAAAMgAAAAyCAYAAAAZUZThAAAAAXNSR0IArs4c6QAAAERlWElmTU0AKg'), ('Mozilla/5.0 (iPad; CPU OS 18_3_2 like Mac OS X) AppleWebKit/605.1.15 (KHTML, like Gecko) CriOS/135.0.7049.53 Mobile/15E148 Safari/604.1', 'iPad', '820x1180', 'Europe/London', 'en-GB', 24, 2.0, 1, None, '[{\"name\": \"PDF Viewer\", \"description\": \"Portable Document Format\"}, {\"name\": \"Chrome PDF Viewer\", \"description\": \"Portable Document Format\"}, {\"name\": \"Chromium PDF Viewer\", \"description\": \"Portable Document Format\"}, {\"name\": \"Microsoft Edge PDF Viewer\", \"description\": \"Portable Document Format\"}, {\"name\": \"WebKit built-in PDF\", \"description\": \"Portable Document Format\"}]', '4', 'unknown', 'data:image/png;base64,iVBORw0KGgoAAAANSUhEUgAAAMgAAAAyCAYAAAAZUZThAAAAAXNSR0IArs4c6QAAAERlWElmTU0AKg'), ('Mozilla/5.0 (iPhone; CPU iPhone OS 18_3_2 like Mac OS X) AppleWebKit/605.1.15 (KHTML, like Gecko) CriOS/135.0.7049.53 Mobile/15E148 Safari/604.1', 'iPhone', '390x844', 'Europe/London', 'en-GB', 24, 3.0, 1, None, '[{\"name\": \"PDF Viewer\", \"description\": \"Portable Document Format\"}, {\"name\": \"Chrome PDF Viewer\", \"description\": \"Portable Document Format\"}, {\"name\": \"Chromium PDF Viewer\", \"description\": \"Portable Document Format\"}, {\"name\": \"Microsoft Edge PDF Viewer\", \"description\": \"Portable Document Format\"}, {\"name\": \"WebKit built-in PDF\", \"description\": \"Portable Document Format\"}]', '4', 'unknown', 'data:image/png;base64,iVBORw0KGgoAAAANSUhEUgAAAMgAAAAyCAYAAAAZUZThAAAAAXNSR0IArs4c6QAAAERlWElmTU0AKg'), ('Mozilla/5.0 (Windows NT 10.0; Win64; x64) AppleWebKit/537.36 (KHTML, like Gecko) Chrome/135.0.0.0 Safari/537.36', 'Win32', '1536x961', 'Europe/London', 'en-US', 24, 1.25, 1, None, '[{\"name\": \"PDF Viewer\", \"description\": \"Portable Document Format\"}, {\"name\": \"Chrome PDF Viewer\", \"description\": \"Portable Document Format\"}, {\"name\": \"Chromium PDF Viewer\", \"description\": \"Portable Document Format\"}, {\"name\": \"Microsoft Edge PDF Viewer\", \"description\": \"Portable Document Format\"}, {\"name\": \"WebKit built-in PDF\", \"description\": \"Portable Document Format\"}]', '16', '4g', 'data:image/png;base64,iVBORw0KGgoAAAANSUhEUgAAAMgAAAAyCAYAAAAZUZThAAAAAXNSR0IArs4c6QAAA5ZJREFUeF7tmT'), ('Mozilla/5.0 (iPad; CPU OS 18_3_2 like Mac OS X) AppleWebKit/605.1.15 (KHTML, like Gecko) CriOS/135.0.7049.53 Mobile/15E148 Safari/604.1', 'iPad', '820x1180', 'Europe/London', 'en-GB', 24, 2.0, 1, None, '[{\"name\": \"PDF Viewer\", \"description\": \"Portable Document Format\"}, {\"name\": \"Chrome PDF Viewer\", \"description\": \"Portable Document Format\"}, {\"name\": \"Chromium PDF Viewer\", \"description\": \"Portable Document Format\"}, {\"name\": \"Microsoft Edge PDF Viewer\", \"description\": \"Portable Document Format\"}, {\"name\": \"WebKit built-in PDF\", \"description\": \"Portable Document Format\"}]', '4', 'unknown', 'data:image/png;base64,iVBORw0KGgoAAAANSUhEUgAAAMgAAAAyCAYAAAAZUZThAAAAAXNSR0IArs4c6QAAAERlWElmTU0AKg'), ('Mozilla/5.0 (iPad; CPU OS 18_3_2 like Mac OS X) AppleWebKit/605.1.15 (KHTML, like Gecko) CriOS/135.0.7049.53 Mobile/15E148 Safari/604.1', 'iPad', '820x1180', 'Europe/London', 'en-GB', 24, 2.0, 1, None, '[{\"name\": \"PDF Viewer\", \"description\": \"Portable Document Format\"}, {\"name\": \"Chrome PDF Viewer\", \"description\": \"Portable Document Format\"}, {\"name\": \"Chromium PDF Viewer\", \"description\": \"Portable Document Format\"}, {\"name\": \"Microsoft Edge PDF Viewer\", \"description\": \"Portable Document Format\"}, {\"name\": \"WebKit built-in PDF\", \"description\": \"Portable Document Format\"}]', '4', 'unknown', 'data:image/png;base64,iVBORw0KGgoAAAANSUhEUgAAAMgAAAAyCAYAAAAZUZThAAAAAXNSR0IArs4c6QAAAERlWElmTU0AKg')]\n"
     ]
    }
   ],
   "source": [
    "DB_FILE = '../backend/customers.db'\n",
    "\n",
    "\n",
    "conn = sqlite3.connect(DB_FILE)\n",
    "cursor = conn.cursor()\n",
    "\n",
    "cursor.execute(\"SELECT browser, os, screen_resolution, timezone, language, color_depth, pixel_ratio, cookies_enabled, do_not_track, plugins, cpu_cores, connection_type, canvas_hash FROM fingerprints WHERE user_ID = 8\")\n",
    "existing_fingerprints = cursor.fetchall()\n",
    "\n",
    "print(existing_fingerprints)\n"
   ]
  },
  {
   "cell_type": "markdown",
   "id": "cb3f802a",
   "metadata": {},
   "source": [
    "All the data is from the same login session and so should be perfectly correlated"
   ]
  },
  {
   "cell_type": "code",
   "execution_count": 58,
   "id": "c51c644f",
   "metadata": {},
   "outputs": [
    {
     "name": "stdout",
     "output_type": "stream",
     "text": [
      "[[3744942759535997892, -3653407468025482990, 9202394690468201488, -3965214259639462322, -6049288712134895825, 24, 1.25, 1, 8796052249265, 2041419912815472725, '16', 1324195395053631050, 8171752149178723454], [3744942759535997892, -3653407468025482990, 9202394690468201488, -3965214259639462322, -6049288712134895825, 24, 1.25, 1, 8796052249265, 2041419912815472725, '16', 1324195395053631050, 8171752149178723454], [3744942759535997892, -3653407468025482990, 9202394690468201488, -3965214259639462322, -6049288712134895825, 24, 1.25, 1, 8796052249265, 2041419912815472725, '16', 1324195395053631050, 8171752149178723454], [3744942759535997892, -3653407468025482990, 9202394690468201488, -3965214259639462322, -6049288712134895825, 24, 1.25, 1, 8796052249265, 2041419912815472725, '16', 1324195395053631050, 8171752149178723454], [3744942759535997892, -3653407468025482990, 9202394690468201488, -3965214259639462322, -6049288712134895825, 24, 1.25, 1, 8796052249265, 2041419912815472725, '16', 1324195395053631050, 8171752149178723454]]\n"
     ]
    }
   ],
   "source": [
    "existing_vectors = [\n",
    "        [\n",
    "            hash(fp[0]), hash(fp[1]), hash(fp[2]), hash(fp[3]), hash(fp[4]),\n",
    "            fp[5], fp[6], int(fp[7]), hash(fp[8]), hash(fp[9]),\n",
    "            fp[10], hash(fp[11]), hash(fp[12])\n",
    "        ] for fp in existing_fingerprints[:-2]\n",
    "    ]\n",
    "\n",
    "test_vector = [\n",
    "        [\n",
    "            hash(fp[0]), hash(fp[1]), hash(fp[2]), hash(fp[3]), hash(fp[4]),\n",
    "            fp[5], fp[6], int(fp[7]), hash(fp[8]), hash(fp[9]),\n",
    "            fp[10], hash(fp[11]), hash(fp[12])\n",
    "        ] for fp in existing_fingerprints[-1:]\n",
    "    ]\n",
    "\n",
    "print(existing_vectors)"
   ]
  },
  {
   "cell_type": "code",
   "execution_count": 41,
   "id": "c3f3383c",
   "metadata": {},
   "outputs": [
    {
     "name": "stdout",
     "output_type": "stream",
     "text": [
      "[-1]\n"
     ]
    }
   ],
   "source": [
    "\n",
    "X = np.array(existing_vectors)\n",
    "model = svm.OneClassSVM(nu=0.1, kernel=\"rbf\", gamma=0.1)\n",
    "model.fit(X)\n",
    "is_anomaly = model.predict(test_vector)\n",
    "\n",
    "print(is_anomaly)"
   ]
  },
  {
   "cell_type": "code",
   "execution_count": 42,
   "id": "9131a372",
   "metadata": {},
   "outputs": [
    {
     "name": "stdout",
     "output_type": "stream",
     "text": [
      "1.0\n"
     ]
    }
   ],
   "source": [
    "similarity = cosine_similarity(test_vector, existing_vectors)\n",
    "\n",
    "print(np.mean(similarity))"
   ]
  },
  {
   "cell_type": "markdown",
   "id": "266a5566",
   "metadata": {},
   "source": [
    "Check working when the values in the test vector are changed to simulate and anonymous login"
   ]
  },
  {
   "cell_type": "code",
   "execution_count": 22,
   "id": "adc8e520",
   "metadata": {},
   "outputs": [],
   "source": [
    "test_vector = [\n",
    "        [\n",
    "            hash(fp[0]), hash(fp[1]), hash(fp[2]), hash('Africa/Cairo'), hash('ar-eg'),\n",
    "            fp[5], fp[6], int(fp[7]), hash(fp[8]), hash(fp[9]),\n",
    "            fp[10], hash(fp[11]), hash(fp[12])\n",
    "        ] for fp in existing_fingerprints[-1:]\n",
    "    ]\n"
   ]
  },
  {
   "cell_type": "code",
   "execution_count": null,
   "id": "8769b39e",
   "metadata": {},
   "outputs": [
    {
     "name": "stdout",
     "output_type": "stream",
     "text": [
      "[False]\n"
     ]
    }
   ],
   "source": [
    "X = np.array(existing_vectors)\n",
    "model = svm.OneClassSVM(nu=0.1, kernel=\"rbf\", gamma=0.1)\n",
    "model.fit(X)\n",
    "is_anomaly = model.predict(test_vector)\n",
    "\n",
    "print(is_anomaly)"
   ]
  },
  {
   "cell_type": "code",
   "execution_count": 24,
   "id": "454504a5",
   "metadata": {},
   "outputs": [
    {
     "name": "stdout",
     "output_type": "stream",
     "text": [
      "0.7478187923849342\n"
     ]
    }
   ],
   "source": [
    "similarity = cosine_similarity(test_vector, existing_vectors)\n",
    "print(np.mean(similarity))"
   ]
  },
  {
   "cell_type": "markdown",
   "id": "11ef1e32",
   "metadata": {},
   "source": [
    "Test with less features and sythetic anomaly using an alternative method"
   ]
  },
  {
   "cell_type": "code",
   "execution_count": 85,
   "id": "f4911566",
   "metadata": {},
   "outputs": [
    {
     "name": "stdout",
     "output_type": "stream",
     "text": [
      "[]\n"
     ]
    }
   ],
   "source": [
    "cursor.execute(\"SELECT os, screen_resolution, timezone, language, pixel_ratio, cookies_enabled, cpu_cores FROM fingerprints WHERE user_ID = 8\")\n",
    "existing_fingerprints = cursor.fetchall()\n",
    "\n",
    "X_train = [\n",
    "        [\n",
    "            hash(fp[0]), hash(fp[1]), hash(fp[2]), hash(fp[3]),\n",
    "            fp[4], int(fp[5]), int(fp[6])\n",
    "        ] for fp in existing_fingerprints[:-2]\n",
    "    ]\n",
    "\n",
    "X_outliers = [\n",
    "        [\n",
    "            hash(fp[0]), hash(fp[1]), hash('Africa/Cairo'), hash('ar-eg'),\n",
    "            fp[4], int(fp[5]), int(fp[6])\n",
    "        ] for fp in existing_fingerprints[-1:]\n",
    "    ]\n",
    "\n",
    "print(X_train)"
   ]
  },
  {
   "cell_type": "code",
   "execution_count": null,
   "id": "5e7655b0",
   "metadata": {},
   "outputs": [
    {
     "name": "stderr",
     "output_type": "stream",
     "text": [
      "c:\\Users\\phili\\miniconda3\\envs\\DigitalBank\\Lib\\site-packages\\sklearn\\neighbors\\_lof.py:282: UserWarning: n_neighbors (20) is greater than the total number of samples (5). n_neighbors will be set to (n_samples - 1) for estimation.\n",
      "  warnings.warn(\n"
     ]
    },
    {
     "data": {
      "image/png": "[encoded data removed]",
      "text/plain": [
       "<Figure size 640x480 with 1 Axes>"
      ]
     },
     "metadata": {},
     "output_type": "display_data"
    }
   ],
   "source": [
    "\n",
    "import matplotlib\n",
    "import matplotlib.lines as mlines\n",
    "import matplotlib.pyplot as plt\n",
    "import numpy as np\n",
    "\n",
    "from sklearn.neighbors import LocalOutlierFactor\n",
    "from sklearn.decomposition import PCA\n",
    "\n",
    "np.random.seed(42)\n",
    "X_train = np.array(X_train)\n",
    "\n",
    "# fit the model for novelty detection\n",
    "clf = LocalOutlierFactor(n_neighbors=20, novelty=True, contamination=0.1)\n",
    "clf.fit(X_train)\n",
    "\n",
    "# Predict on test and outlier data\n",
    "y_pred_outliers = clf.predict(X_outliers)\n",
    "n_error_outliers = y_pred_outliers[y_pred_outliers == 1].size\n",
    "\n"
   ]
  },
  {
   "cell_type": "code",
   "execution_count": 66,
   "id": "518ffd7f",
   "metadata": {},
   "outputs": [
    {
     "name": "stdout",
     "output_type": "stream",
     "text": [
      "[1]\n"
     ]
    }
   ],
   "source": [
    "print(y_pred_outliers)"
   ]
  },
  {
   "cell_type": "markdown",
   "id": "2fe1d386",
   "metadata": {},
   "source": [
    "Test if it works when smaller features change"
   ]
  },
  {
   "cell_type": "code",
   "execution_count": null,
   "id": "d04f3166",
   "metadata": {},
   "outputs": [
    {
     "name": "stdout",
     "output_type": "stream",
     "text": [
      "[[-3653407468025482990, 9202394690468201488, -3965214259639462322, -6049288712134895825, 1.25, 1, 16], [-3653407468025482990, 9202394690468201488, -3965214259639462322, -6049288712134895825, 1.25, 1, 16], [-3653407468025482990, 9202394690468201488, -3965214259639462322, -6049288712134895825, 1.25, 1, 16], [-3653407468025482990, 9202394690468201488, -3965214259639462322, -6049288712134895825, 1.25, 1, 16], [-3653407468025482990, 9202394690468201488, -3965214259639462322, -6049288712134895825, 1.25, 1, 16]]\n"
     ]
    }
   ],
   "source": [
    "cursor.execute(\"SELECT os, screen_resolution, timezone, language, pixel_ratio, cookies_enabled, cpu_cores FROM fingerprints WHERE user_ID = 8\")\n",
    "existing_fingerprints = cursor.fetchall()\n",
    "\n",
    "X_train = [\n",
    "        [\n",
    "            hash(fp[0]), hash(fp[1]), hash(fp[2]), hash(fp[3]),\n",
    "            fp[4], int(fp[5]), int(fp[6])\n",
    "        ] for fp in existing_fingerprints[:-2]\n",
    "    ]\n",
    "\n",
    "X_outliers = [\n",
    "        [\n",
    "            hash(fp[0]), hash(fp[1]), hash(fp[2]), hash(fp[3]),\n",
    "            1, 0, 8\n",
    "        ] for fp in existing_fingerprints[-1:]\n",
    "    ]\n",
    "\n",
    "print(X_train)"
   ]
  },
  {
   "cell_type": "code",
   "execution_count": 70,
   "id": "6f39976d",
   "metadata": {},
   "outputs": [
    {
     "name": "stdout",
     "output_type": "stream",
     "text": [
      "[1]\n"
     ]
    },
    {
     "name": "stderr",
     "output_type": "stream",
     "text": [
      "c:\\Users\\phili\\miniconda3\\envs\\DigitalBank\\Lib\\site-packages\\sklearn\\neighbors\\_lof.py:282: UserWarning: n_neighbors (20) is greater than the total number of samples (5). n_neighbors will be set to (n_samples - 1) for estimation.\n",
      "  warnings.warn(\n"
     ]
    }
   ],
   "source": [
    "X_train = np.array(X_train)\n",
    "\n",
    "# fit the model for novelty detection\n",
    "clf = LocalOutlierFactor(n_neighbors=20, novelty=True, contamination=0.1)\n",
    "clf.fit(X_train)\n",
    "\n",
    "# Predict on test and outlier data\n",
    "y_pred_outliers = clf.predict(X_outliers)\n",
    "print(y_pred_outliers)"
   ]
  },
  {
   "cell_type": "code",
   "execution_count": 71,
   "id": "31ee2618",
   "metadata": {},
   "outputs": [
    {
     "name": "stdout",
     "output_type": "stream",
     "text": [
      "1.0\n"
     ]
    }
   ],
   "source": [
    "similarity = cosine_similarity(X_outliers, X_train)\n",
    "print(np.mean(similarity))"
   ]
  },
  {
   "cell_type": "markdown",
   "id": "31261b04",
   "metadata": {},
   "source": [
    "Only use hashed features due to negligible affect on prediction"
   ]
  },
  {
   "cell_type": "code",
   "execution_count": 83,
   "id": "3acc2217",
   "metadata": {},
   "outputs": [],
   "source": [
    "cursor.execute(\"SELECT browser, os, screen_resolution, timezone, language, plugins FROM fingerprints WHERE user_ID = 8\")\n",
    "existing_fingerprints = cursor.fetchall()\n",
    "\n",
    "X_train = [\n",
    "        [\n",
    "            hash(fp[0]), hash(fp[1]), hash(fp[2]), hash(fp[3]), hash(fp[4]), hash(fp[5]) \n",
    "        ] for fp in existing_fingerprints[:-2]\n",
    "    ]\n",
    "\n",
    "X_outliers = [\n",
    "        [\n",
    "            hash(fp[0]), hash(fp[1]), hash(fp[2]), hash(fp[3]), hash(fp[4]), hash(fp[5]) \n",
    "        ] for fp in existing_fingerprints[-1:]\n",
    "    ]\n"
   ]
  },
  {
   "cell_type": "code",
   "execution_count": 84,
   "id": "042c9091",
   "metadata": {},
   "outputs": [
    {
     "name": "stdout",
     "output_type": "stream",
     "text": [
      "[1]\n"
     ]
    },
    {
     "name": "stderr",
     "output_type": "stream",
     "text": [
      "c:\\Users\\phili\\miniconda3\\envs\\DigitalBank\\Lib\\site-packages\\sklearn\\neighbors\\_lof.py:282: UserWarning: n_neighbors (20) is greater than the total number of samples (5). n_neighbors will be set to (n_samples - 1) for estimation.\n",
      "  warnings.warn(\n"
     ]
    }
   ],
   "source": [
    "X_train = np.array(X_train)\n",
    "\n",
    "# fit the model for novelty detection\n",
    "clf = LocalOutlierFactor(n_neighbors=20, novelty=True, contamination=0.1)\n",
    "clf.fit(X_train)\n",
    "\n",
    "# Predict on test and outlier data\n",
    "y_pred_outliers = clf.predict(X_outliers)\n",
    "print(y_pred_outliers)"
   ]
  },
  {
   "cell_type": "code",
   "execution_count": 82,
   "id": "61cb27c5",
   "metadata": {},
   "outputs": [
    {
     "name": "stdout",
     "output_type": "stream",
     "text": [
      "0.9757661409666125\n"
     ]
    }
   ],
   "source": [
    "similarity = cosine_similarity(X_outliers, X_train)\n",
    "print(np.mean(similarity))"
   ]
  },
  {
   "cell_type": "markdown",
   "id": "3c7c7530",
   "metadata": {},
   "source": [
    "Try on a different login"
   ]
  },
  {
   "cell_type": "code",
   "execution_count": null,
   "id": "53b535f5",
   "metadata": {},
   "outputs": [
    {
     "name": "stdout",
     "output_type": "stream",
     "text": [
      "6\n"
     ]
    }
   ],
   "source": [
    "cursor.execute(\"SELECT browser, os, screen_resolution, timezone, language, plugins FROM fingerprints WHERE user_ID = 63\")\n",
    "existing_fingerprints = cursor.fetchall()\n",
    "\n",
    "X_train = [\n",
    "        [\n",
    "            hash(fp[0]), hash(fp[1]), hash(fp[2]), hash(fp[3]), hash(fp[4]), hash(fp[5]) \n",
    "        ] for fp in existing_fingerprints[:-2]\n",
    "    ]\n",
    "\n",
    "X_outliers = [\n",
    "        [\n",
    "            hash(fp[0]), hash(fp[1]), hash(fp[2]), hash(fp[3]), hash(fp[4]), hash(fp[5]) \n",
    "        ] for fp in existing_fingerprints[-1:]\n",
    "    ]\n",
    "\n"
   ]
  },
  {
   "cell_type": "code",
   "execution_count": 92,
   "id": "ce7e80ab",
   "metadata": {},
   "outputs": [
    {
     "name": "stdout",
     "output_type": "stream",
     "text": [
      "[1]\n"
     ]
    },
    {
     "name": "stderr",
     "output_type": "stream",
     "text": [
      "c:\\Users\\phili\\miniconda3\\envs\\DigitalBank\\Lib\\site-packages\\sklearn\\neighbors\\_lof.py:282: UserWarning: n_neighbors (20) is greater than the total number of samples (4). n_neighbors will be set to (n_samples - 1) for estimation.\n",
      "  warnings.warn(\n"
     ]
    }
   ],
   "source": [
    "X_train = np.array(X_train)\n",
    "\n",
    "# fit the model for novelty detection\n",
    "clf = LocalOutlierFactor(n_neighbors=20, novelty=True, contamination=0.1)\n",
    "clf.fit(X_train)\n",
    "\n",
    "# Predict on test and outlier data\n",
    "y_pred_outliers = clf.predict(X_outliers)\n",
    "print(y_pred_outliers)"
   ]
  }
 ],
 "metadata": {
  "kernelspec": {
   "display_name": "DigitalBank",
   "language": "python",
   "name": "python3"
  },
  "language_info": {
   "codemirror_mode": {
    "name": "ipython",
    "version": 3
   },
   "file_extension": ".py",
   "mimetype": "text/x-python",
   "name": "python",
   "nbconvert_exporter": "python",
   "pygments_lexer": "ipython3",
   "version": "3.11.11"
  }
 },
 "nbformat": 4,
 "nbformat_minor": 5
}
